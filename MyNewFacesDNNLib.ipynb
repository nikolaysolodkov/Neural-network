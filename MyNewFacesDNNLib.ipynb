{
  "nbformat": 4,
  "nbformat_minor": 0,
  "metadata": {
    "colab": {
      "name": "MyNewFaces.ipynb",
      "version": "0.3.2",
      "provenance": [],
      "collapsed_sections": [],
      "toc_visible": true,
      "include_colab_link": true
    },
    "kernelspec": {
      "name": "python3",
      "display_name": "Python 3"
    },
    "accelerator": "GPU"
  },
  "cells": [
    {
      "cell_type": "markdown",
      "metadata": {
        "id": "view-in-github",
        "colab_type": "text"
      },
      "source": [
        "<a href=\"https://colab.research.google.com/github/nikolaysolodkov/Neural-network/blob/master/MyNewFacesDNNLib.ipynb\" target=\"_parent\"><img src=\"https://colab.research.google.com/assets/colab-badge.svg\" alt=\"Open In Colab\"/></a>"
      ]
    },
    {
      "metadata": {
        "id": "mXvDfp3Raety",
        "colab_type": "code",
        "colab": {}
      },
      "cell_type": "code",
      "source": [
        "############## Load File to Notebook VM ##########################\n",
        "from google.colab import files\n",
        "files.upload()\n",
        "#################################################################\n",
        "##         tfutil.py      download     ##"
      ],
      "execution_count": 0,
      "outputs": []
    },
    {
      "metadata": {
        "id": "pLI3UVts5J2Q",
        "colab_type": "text"
      },
      "cell_type": "markdown",
      "source": [
        "# New Section"
      ]
    },
    {
      "metadata": {
        "id": "1xwQY9qPLT-r",
        "colab_type": "code",
        "colab": {}
      },
      "cell_type": "code",
      "source": [
        "##################connect my google disk ###############################\n",
        "from google.colab import drive\n",
        "drive.mount('/content/drive')\n",
        "##########################################"
      ],
      "execution_count": 0,
      "outputs": []
    },
    {
      "metadata": {
        "id": "CzfiJQ1pLNQd",
        "colab_type": "code",
        "colab": {}
      },
      "cell_type": "code",
      "source": [
        "##############  copy dnnlib  from my google disk #################\n",
        "!cp -R '/content/drive/My Drive/MODELS/dnnlib' 'dnnlib'\n",
        "\n"
      ],
      "execution_count": 0,
      "outputs": []
    },
    {
      "metadata": {
        "id": "dh7UMwh4LVpD",
        "colab_type": "code",
        "colab": {}
      },
      "cell_type": "code",
      "source": [
        "import pickle\n",
        "import numpy as np\n",
        "import tensorflow as tf\n",
        "import PIL.Image\n",
        "import PIL.ImageDraw\n",
        "import dnnlib\n",
        "import dnnlib.tflib as tflib"
      ],
      "execution_count": 0,
      "outputs": []
    },
    {
      "metadata": {
        "id": "IhKPShIP1AjM",
        "colab_type": "code",
        "colab": {}
      },
      "cell_type": "code",
      "source": [
        ""
      ],
      "execution_count": 0,
      "outputs": []
    },
    {
      "metadata": {
        "id": "DDXfYUACaet3",
        "colab_type": "code",
        "outputId": "e20bf41f-4f98-4e12-eda4-5f9d137a8ce1",
        "colab": {
          "base_uri": "https://localhost:8080/",
          "height": 127
        }
      },
      "cell_type": "code",
      "source": [
        "### Initialize TensorFlow session.\n",
        "tf.InteractiveSession()\n",
        "\n",
        "# Import official CelebA-HQ networks.\n",
        "##with open('/content/drive/My Drive/karras2018iclr-celebahq-1024x1024.pkl', 'rb') as file:\n",
        "##with open('/content/drive/My Drive/karras2018iclr-lsun-person-256x256.pkl', 'rb') as file:\n",
        "##with open('/content/drive/My Drive/karras2018iclr-lsun-train-256x256.pkl', 'rb') as file:\n",
        "##with open('/content/drive/My Drive/karras2018iclr-lsun-tvmonitor-256x256.pkl', 'rb') as file:\n",
        "with open('/content/drive/My Drive/MODELS/karras2019stylegan-ffhq-1024x1024.pkl', 'rb') as file:\n",
        "    G, D, Gs = pickle.load(file)"
      ],
      "execution_count": 15,
      "outputs": [
        {
          "output_type": "stream",
          "text": [
            "/usr/local/lib/python3.6/dist-packages/tensorflow/python/client/session.py:1702: UserWarning: An interactive session is already active. This can cause out-of-memory errors in some cases. You must explicitly call `InteractiveSession.close()` to release resources held by the other session(s).\n",
            "  warnings.warn('An interactive session is already active. This can '\n"
          ],
          "name": "stderr"
        },
        {
          "output_type": "stream",
          "text": [
            "WARNING:tensorflow:From /usr/local/lib/python3.6/dist-packages/tensorflow/python/framework/op_def_library.py:263: colocate_with (from tensorflow.python.framework.ops) is deprecated and will be removed in a future version.\n",
            "Instructions for updating:\n",
            "Colocations handled automatically by placer.\n"
          ],
          "name": "stdout"
        }
      ]
    },
    {
      "metadata": {
        "id": "_mLQsjXc2s5P",
        "colab_type": "text"
      },
      "cell_type": "markdown",
      "source": [
        "# New Section"
      ]
    },
    {
      "metadata": {
        "id": "h1LgWAOvaet-",
        "colab_type": "code",
        "colab": {}
      },
      "cell_type": "code",
      "source": [
        "# Generate latent vectors.\n",
        "latents = np.random.RandomState(2000).randn(2000, *Gs.input_shapes[0][1:]) # 1000 random latents\n",
        "latents = latents[[476, 65, 72, 786, 482, 290, 95, 239, 240, 314]] # hand-picked top-10\n"
      ],
      "execution_count": 0,
      "outputs": []
    },
    {
      "metadata": {
        "id": "QALXI2MUaeuC",
        "colab_type": "code",
        "colab": {}
      },
      "cell_type": "code",
      "source": [
        "# Generate dummy labels (not used by the official networks).\n",
        "labels = np.zeros([latents.shape[0]] + Gs.input_shapes[1][1:])"
      ],
      "execution_count": 0,
      "outputs": []
    },
    {
      "metadata": {
        "id": "tz0hYREzaeuF",
        "colab_type": "code",
        "colab": {}
      },
      "cell_type": "code",
      "source": [
        "# Run the generator to produce a set of images.\n",
        "images = Gs.run(latents, labels)"
      ],
      "execution_count": 0,
      "outputs": []
    },
    {
      "metadata": {
        "id": "IOUZ6W2UaeuJ",
        "colab_type": "code",
        "colab": {}
      },
      "cell_type": "code",
      "source": [
        "# Convert images to PIL-compatible format.\n",
        "images = np.clip(np.rint((images + 1.0) / 2.0 * 255.0), 0.0, 255.0).astype(np.uint8) # [-1,1] => [0,255]\n",
        "images = images.transpose(0, 2, 3, 1) # NCHW => NHWC"
      ],
      "execution_count": 0,
      "outputs": []
    },
    {
      "metadata": {
        "id": "a05ue3XBaeuO",
        "colab_type": "code",
        "colab": {}
      },
      "cell_type": "code",
      "source": [
        "# Save images as PNG.\n",
        "for idx in range(images.shape[0]):\n",
        "    PIL.Image.fromarray(images[idx], 'RGB').save('image%d.png' % idx)\n"
      ],
      "execution_count": 0,
      "outputs": []
    },
    {
      "metadata": {
        "id": "DUBb5vPvMsEz",
        "colab_type": "code",
        "colab": {}
      },
      "cell_type": "code",
      "source": [
        " #   im = PIL.Image.open('image0.png')\n",
        " #   draw = PIL.ImageDraw.Draw(im)\n",
        " #   draw.text((10,10), \"hello\", fill=\"black\")\n",
        " #v  im.show()\n"
      ],
      "execution_count": 0,
      "outputs": []
    },
    {
      "metadata": {
        "id": "oBdhAkz6bPPb",
        "colab_type": "code",
        "colab": {}
      },
      "cell_type": "code",
      "source": [
        "!cp image0.png \"/content/drive/My Drive/image0.png\"  \n",
        "!cp image1.png \"/content/drive/My Drive/image1.png\"  \n",
        "!cp image2.png \"/content/drive/My Drive/image2.png\"  \n",
        "!cp image3.png \"/content/drive/My Drive/image3.png\"  \n",
        "!cp image4.png \"/content/drive/My Drive/image4.png\"  \n",
        "!cp image5.png \"/content/drive/My Drive/image5.png\"  \n",
        "!cp image6.png \"/content/drive/My Drive/image6.png\"  \n",
        "!cp image7.png \"/content/drive/My Drive/image7.png\"  \n",
        "!cp image8.png \"/content/drive/My Drive/image8.png\"  \n",
        "!cp image9.png \"/content/drive/My Drive/image9.png\"  "
      ],
      "execution_count": 0,
      "outputs": []
    },
    {
      "metadata": {
        "id": "FIQ1JBAhkPBw",
        "colab_type": "code",
        "outputId": "269817a0-7c19-4976-81db-33497e31787d",
        "colab": {
          "base_uri": "https://localhost:8080/",
          "height": 53
        }
      },
      "cell_type": "code",
      "source": [
        "!ls \n",
        " "
      ],
      "execution_count": 21,
      "outputs": [
        {
          "output_type": "stream",
          "text": [
            "dnnlib\timage0.png  image2.png\timage4.png  image6.png\timage8.png  sample_data\n",
            "drive\timage1.png  image3.png\timage5.png  image7.png\timage9.png  tfutil.py\n"
          ],
          "name": "stdout"
        }
      ]
    },
    {
      "metadata": {
        "id": "VTsKeg9j_OsN",
        "colab_type": "code",
        "colab": {}
      },
      "cell_type": "code",
      "source": [
        " "
      ],
      "execution_count": 0,
      "outputs": []
    }
  ]
}