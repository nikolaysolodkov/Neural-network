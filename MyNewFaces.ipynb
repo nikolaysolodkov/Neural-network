{
  "nbformat": 4,
  "nbformat_minor": 0,
  "metadata": {
    "colab": {
      "name": "MyNewFaces.ipynb",
      "version": "0.3.2",
      "provenance": [],
      "collapsed_sections": []
    },
    "kernelspec": {
      "name": "python3",
      "display_name": "Python 3"
    },
    "accelerator": "GPU"
  },
  "cells": [
    {
      "metadata": {
        "id": "mXvDfp3Raety",
        "colab_type": "code",
        "colab": {}
      },
      "cell_type": "code",
      "source": [
        "############## Load File to Notebook VM ##########################\n",
        "#from google.colab import files\n",
        "#files.upload()\n",
        "#################################################################\n",
        "\n",
        "\n",
        "import pickle\n",
        "import numpy as np\n",
        "import tensorflow as tf\n",
        "import PIL.Image"
      ],
      "execution_count": 0,
      "outputs": []
    },
    {
      "metadata": {
        "id": "IhKPShIP1AjM",
        "colab_type": "code",
        "colab": {}
      },
      "cell_type": "code",
      "source": [
        "#from google.colab import drive\n",
        "#drive.mount('/content/drive')"
      ],
      "execution_count": 0,
      "outputs": []
    },
    {
      "metadata": {
        "id": "DDXfYUACaet3",
        "colab_type": "code",
        "outputId": "a6717d04-6a36-412b-efa3-2d8572088dbf",
        "colab": {
          "base_uri": "https://localhost:8080/",
          "height": 70
        }
      },
      "cell_type": "code",
      "source": [
        "# Initialize TensorFlow session.\n",
        "tf.InteractiveSession()\n",
        "\n",
        "# Import official CelebA-HQ networks.\n",
        "with open('/content/drive/My Drive/karras2018iclr-celebahq-1024x1024.pkl', 'rb') as file:\n",
        "    G, D, Gs = pickle.load(file)"
      ],
      "execution_count": 114,
      "outputs": [
        {
          "output_type": "stream",
          "text": [
            "/usr/local/lib/python3.6/dist-packages/tensorflow/python/client/session.py:1702: UserWarning: An interactive session is already active. This can cause out-of-memory errors in some cases. You must explicitly call `InteractiveSession.close()` to release resources held by the other session(s).\n",
            "  warnings.warn('An interactive session is already active. This can '\n"
          ],
          "name": "stderr"
        }
      ]
    },
    {
      "metadata": {
        "id": "_mLQsjXc2s5P",
        "colab_type": "text"
      },
      "cell_type": "markdown",
      "source": [
        "# New Section"
      ]
    },
    {
      "metadata": {
        "id": "h1LgWAOvaet-",
        "colab_type": "code",
        "colab": {}
      },
      "cell_type": "code",
      "source": [
        "# Generate latent vectors.\n",
        "latents = np.random.RandomState(2000).randn(2000, *Gs.input_shapes[0][1:]) # 1000 random latents\n",
        "latents = latents[[376, 45]] #, 72, 786, 482, 290, 95, 239, 240, 314]] # hand-picked top-10\n"
      ],
      "execution_count": 0,
      "outputs": []
    },
    {
      "metadata": {
        "id": "QALXI2MUaeuC",
        "colab_type": "code",
        "colab": {}
      },
      "cell_type": "code",
      "source": [
        "# Generate dummy labels (not used by the official networks).\n",
        "labels = np.zeros([latents.shape[0]] + Gs.input_shapes[1][1:])"
      ],
      "execution_count": 0,
      "outputs": []
    },
    {
      "metadata": {
        "id": "tz0hYREzaeuF",
        "colab_type": "code",
        "colab": {}
      },
      "cell_type": "code",
      "source": [
        "# Run the generator to produce a set of images.\n",
        "images = Gs.run(latents, labels)"
      ],
      "execution_count": 0,
      "outputs": []
    },
    {
      "metadata": {
        "id": "IOUZ6W2UaeuJ",
        "colab_type": "code",
        "colab": {}
      },
      "cell_type": "code",
      "source": [
        "# Convert images to PIL-compatible format.\n",
        "images = np.clip(np.rint((images + 1.0) / 2.0 * 255.0), 0.0, 255.0).astype(np.uint8) # [-1,1] => [0,255]\n",
        "images = images.transpose(0, 2, 3, 1) # NCHW => NHWC"
      ],
      "execution_count": 0,
      "outputs": []
    },
    {
      "metadata": {
        "id": "a05ue3XBaeuO",
        "colab_type": "code",
        "colab": {}
      },
      "cell_type": "code",
      "source": [
        "# Save images as PNG.\n",
        "for idx in range(images.shape[0]):\n",
        "    PIL.Image.fromarray(images[idx], 'RGB').save('imgage%d.png' % idx)\n",
        "   "
      ],
      "execution_count": 0,
      "outputs": []
    },
    {
      "metadata": {
        "id": "oBdhAkz6bPPb",
        "colab_type": "code",
        "colab": {}
      },
      "cell_type": "code",
      "source": [
        "!cp imgage0.png \"/content/drive/My Drive/imgage0.png\""
      ],
      "execution_count": 0,
      "outputs": []
    },
    {
      "metadata": {
        "id": "FIQ1JBAhkPBw",
        "colab_type": "code",
        "outputId": "81e66840-83e8-4967-95cc-a4b1c7c729d7",
        "colab": {
          "base_uri": "https://localhost:8080/",
          "height": 134
        }
      },
      "cell_type": "code",
      "source": [
        "!ls \n",
        " "
      ],
      "execution_count": 120,
      "outputs": [
        {
          "output_type": "stream",
          "text": [
            "drive\t    img-1.png\timg3.png    img__6.png\timg_8.png    __pycache__\n",
            "img__0.png  img1.png\timg__4.png  img_6.png\timg8.png     sample_data\n",
            "img_0.png   img__2.png\timg_4.png   img6.png\timg__9.png   tfutil.py\n",
            "img-0.png   img_2.png\timg4.png    img__7.png\timg_9.png\n",
            "img0.png    img2.png\timg__5.png  img_7.png\timg9.png\n",
            "img__1.png  img__3.png\timg_5.png   img7.png\timgage0.png\n",
            "img_1.png   img_3.png\timg5.png    img__8.png\timgage1.png\n"
          ],
          "name": "stdout"
        }
      ]
    }
  ]
}